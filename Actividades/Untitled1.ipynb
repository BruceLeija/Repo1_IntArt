{
  "nbformat": 4,
  "nbformat_minor": 0,
  "metadata": {
    "colab": {
      "provenance": []
    },
    "kernelspec": {
      "name": "python3",
      "display_name": "Python 3"
    },
    "language_info": {
      "name": "python"
    }
  },
  "cells": [
    {
      "cell_type": "markdown",
      "source": [
        "Actividad 2: Diseño de algoritmos en Python //Bruce Brandon Leija Cortes1982141 //N4-N5-N6"
      ],
      "metadata": {
        "id": "cA_H44lSimQq"
      }
    },
    {
      "cell_type": "markdown",
      "source": [
        "1. Desarrolla un algoritmo que le pida al usuario por su nombre y que lo salude con su nombre, excepto si se llama “Ana”, “Juan”, y “Pedro”.\n",
        "\n"
      ],
      "metadata": {
        "id": "YkyXIS9gi4Eh"
      }
    },
    {
      "cell_type": "code",
      "source": [
        "nombre = input(\"¿Cómo te llamas? \")\n",
        "\n",
        "if nombre not in (\"Ana\", \"Juan\", \"Pedro\"):\n",
        "    print(\"Hola\", nombre)\n"
      ],
      "metadata": {
        "colab": {
          "base_uri": "https://localhost:8080/"
        },
        "id": "J9tHGKKni9u3",
        "outputId": "c5294b3b-b12a-44f4-e11f-538d1b6af452"
      },
      "execution_count": 14,
      "outputs": [
        {
          "output_type": "stream",
          "name": "stdout",
          "text": [
            "¿Cómo te llamas? bruce\n",
            "Hola bruce\n"
          ]
        }
      ]
    },
    {
      "cell_type": "markdown",
      "source": [
        "2. Desarrolla un algoritmo que por medio de una función, le pida al usuario una lista de N elementos y como resultado invierta el sentido de la lista."
      ],
      "metadata": {
        "id": "nF2C3GePjEfe"
      }
    },
    {
      "cell_type": "code",
      "source": [
        "def invertir_lista(n):\n",
        "  \"\"\"\n",
        "  Esta función le pide al usuario una lista de n elementos y la devuelve invertida.\n",
        "\n",
        "  Args:\n",
        "      n: Número de elementos de la lista.\n",
        "\n",
        "  Returns:\n",
        "      list: La lista invertida.\n",
        "  \"\"\"\n",
        "\n",
        "  lista = []\n",
        "  for i in range(n):\n",
        "    elemento = input(\"Ingrese el elemento \" + str(i + 1) + \": \")\n",
        "    lista.append(elemento)\n",
        "\n",
        "  lista_invertida = lista[::-1]\n",
        "  return lista_invertida\n",
        "\n",
        "# Preguntar al usuario el número de elementos de la lista\n",
        "n = int(input(\"¿Cuántos elementos quieres introducir? \"))\n",
        "\n",
        "# Invertir la lista y mostrarla\n",
        "lista_invertida = invertir_lista(n)\n",
        "print(\"Lista invertida:\", lista_invertida)\n"
      ],
      "metadata": {
        "colab": {
          "base_uri": "https://localhost:8080/"
        },
        "id": "1h6ut1hDjKJn",
        "outputId": "461736d5-24fb-40fe-cf8b-1431f409accd"
      },
      "execution_count": 12,
      "outputs": [
        {
          "output_type": "stream",
          "name": "stdout",
          "text": [
            "¿Cuántos elementos quieres introducir? 2\n",
            "Ingrese el elemento 1: fuego\n",
            "Ingrese el elemento 2: agua\n",
            "Lista invertida: ['agua', 'fuego']\n"
          ]
        }
      ]
    },
    {
      "cell_type": "markdown",
      "source": [
        "3. Desarrolla un algoritmo que le pregunte al usuario cuántos números de la serie de Fibonacci quiere generar y que al final los imprima."
      ],
      "metadata": {
        "id": "RaS4pUDpjVTG"
      }
    },
    {
      "cell_type": "code",
      "source": [
        "def fibonacci(n):\n",
        "  \"\"\"\n",
        "  Esta función calcula los primeros n números de la serie de Fibonacci.\n",
        "\n",
        "  Args:\n",
        "      n: Número de elementos de la serie a generar.\n",
        "\n",
        "  Returns:\n",
        "      list: Lista con los primeros n números de la serie de Fibonacci.\n",
        "  \"\"\"\n",
        "\n",
        "  if n <= 0:\n",
        "    return []\n",
        "  elif n == 1:\n",
        "    return [0]\n",
        "  elif n == 2:\n",
        "    return [0, 1]\n",
        "\n",
        "  serie = [0, 1]\n",
        "  for i in range(2, n):\n",
        "    proximo = serie[i-1] + serie[i-2]\n",
        "    serie.append(proximo)\n",
        "\n",
        "  return serie\n",
        "\n",
        "# Preguntar al usuario cuántos números quiere generar\n",
        "n = int(input(\"¿Cuántos números de la serie de Fibonacci quieres generar? \"))\n",
        "\n",
        "# Generar y mostrar los números\n",
        "serie_fibonacci = fibonacci(n)\n",
        "print(\"Serie de Fibonacci:\", serie_fibonacci)\n"
      ],
      "metadata": {
        "colab": {
          "base_uri": "https://localhost:8080/"
        },
        "id": "Nj1xevCdjff6",
        "outputId": "f58eee21-c52a-49e4-dd8f-a8aab07fddbd"
      },
      "execution_count": 9,
      "outputs": [
        {
          "output_type": "stream",
          "name": "stdout",
          "text": [
            "¿Cuántos números de la serie de Fibonacci quieres generar? 10\n",
            "Serie de Fibonacci: [0, 1, 1, 2, 3, 5, 8, 13, 21, 34]\n"
          ]
        }
      ]
    },
    {
      "cell_type": "markdown",
      "source": [
        "4. Juego de adivinar el número: Crea un programa que genere un número aleatorio entre 1 y 100, y luego le pida al usuario que adivine el número. El programa debe proporcionar pistas al usuario si el número es mayor o menor que el número objetivo, y seguir solicitando un nuevo intento hasta que el usuario adivine correctamente."
      ],
      "metadata": {
        "id": "KI9f9TYFjntH"
      }
    },
    {
      "cell_type": "code",
      "source": [
        "import random\n",
        "\n",
        "# Generar un número aleatorio entre 1 y 100\n",
        "numero_objetivo = random.randint(1, 100)\n",
        "\n",
        "# Seguir pidiendo un nuevo intento hasta que el usuario adivine correctamente\n",
        "adivinado = False\n",
        "while not adivinado:\n",
        "  # Pedir al usuario que adivine el número\n",
        "  intento = int(input(\"Adivina el número (entre 1 y 100): \"))\n",
        "\n",
        "  # Comprobar si el intento es correcto\n",
        "  if intento == numero_objetivo:\n",
        "    adivinado = True\n",
        "    print(\"¡Felicidades! Adivinaste el número.\")\n",
        "  else:\n",
        "    # Dar una pista al usuario\n",
        "    if intento > numero_objetivo:\n",
        "      print(\"El número objetivo es menor.\")\n",
        "    else:\n",
        "      print(\"El número objetivo es mayor.\")\n",
        "\n",
        "\n"
      ],
      "metadata": {
        "colab": {
          "base_uri": "https://localhost:8080/"
        },
        "id": "kjMV8sG_juPu",
        "outputId": "b92bdeb5-041e-4dfb-95a7-78b80df7eecb"
      },
      "execution_count": 8,
      "outputs": [
        {
          "output_type": "stream",
          "name": "stdout",
          "text": [
            "Adivina el número (entre 1 y 100): 50\n",
            "El número objetivo es menor.\n",
            "Adivina el número (entre 1 y 100): 13\n",
            "El número objetivo es mayor.\n",
            "Adivina el número (entre 1 y 100): 25\n",
            "El número objetivo es menor.\n",
            "Adivina el número (entre 1 y 100): 20\n",
            "El número objetivo es menor.\n",
            "Adivina el número (entre 1 y 100): 16\n",
            "El número objetivo es menor.\n",
            "Adivina el número (entre 1 y 100): 15\n",
            "El número objetivo es menor.\n",
            "Adivina el número (entre 1 y 100): 14\n",
            "¡Felicidades! Adivinaste el número.\n"
          ]
        }
      ]
    },
    {
      "cell_type": "markdown",
      "source": [
        "5.Ejercicio de cálculo de números primos en un rango dado: Escribe un programa que solicite al usuario un rango de números y muestre todos los números primos dentro de ese rango."
      ],
      "metadata": {
        "id": "fKd2ChFFj6P-"
      }
    },
    {
      "cell_type": "code",
      "source": [
        "def es_primo(numero):\n",
        "  \"\"\"\n",
        "  Esta función comprueba si un número es primo.\n",
        "\n",
        "  Args:\n",
        "      numero: El número a comprobar.\n",
        "\n",
        "  Returns:\n",
        "      bool: True si el número es primo, False en caso contrario.\n",
        "  \"\"\"\n",
        "\n",
        "  if numero <= 1:\n",
        "    return False\n",
        "  elif numero <= 3:\n",
        "    return True\n",
        "  elif numero % 2 == 0 or numero % 3 == 0:\n",
        "    return False\n",
        "  i = 5\n",
        "  while i * i <= numero:\n",
        "    if numero % i == 0 or numero % (i + 2) == 0:\n",
        "      return False\n",
        "    i += 6\n",
        "  return True\n",
        "\n",
        "# Solicitar al usuario el rango de números\n",
        "rango_inicial = int(input(\"¿Cuál es el número inicial del rango? \"))\n",
        "rango_final = int(input(\"¿Cuál es el número final del rango? \"))\n",
        "\n",
        "# Mostrar todos los números primos dentro del rango\n",
        "print(\"Números primos dentro del rango:\")\n",
        "for numero in range(rango_inicial, rango_final + 1):\n",
        "  if es_primo(numero):\n",
        "    print(numero)\n"
      ],
      "metadata": {
        "colab": {
          "base_uri": "https://localhost:8080/"
        },
        "id": "uCFjBrSrj_nx",
        "outputId": "94221fc6-3998-4e25-8f21-379ea26b48fe"
      },
      "execution_count": 7,
      "outputs": [
        {
          "output_type": "stream",
          "name": "stdout",
          "text": [
            "¿Cuál es el número inicial del rango? 5\n",
            "¿Cuál es el número final del rango? 10\n",
            "Números primos dentro del rango:\n",
            "5\n",
            "7\n"
          ]
        }
      ]
    },
    {
      "cell_type": "markdown",
      "source": [
        "6. Ejercicio de implementación de una calculadora básica utilizando funciones: Escribe un programa que solicite al usuario dos números y realice operaciones básicas como suma, resta, multiplicación y división utilizando funciones separadas para cada operación."
      ],
      "metadata": {
        "id": "rqtLdb2dkPDg"
      }
    },
    {
      "cell_type": "code",
      "source": [
        "def suma(a, b):\n",
        "  \"\"\"\n",
        "  Esta función suma dos números.\n",
        "\n",
        "  Args:\n",
        "      a: El primer número.\n",
        "      b: El segundo número.\n",
        "\n",
        "  Returns:\n",
        "      int: La suma de los dos números.\n",
        "  \"\"\"\n",
        "  return a + b\n",
        "\n",
        "def resta(a, b):\n",
        "  \"\"\"\n",
        "  Esta función resta dos números.\n",
        "\n",
        "  Args:\n",
        "      a: El primer número.\n",
        "      b: El segundo número.\n",
        "\n",
        "  Returns:\n",
        "      int: La resta del primer número menos el segundo.\n",
        "  \"\"\"\n",
        "  return a - b\n",
        "\n",
        "def multiplicacion(a, b):\n",
        "  \"\"\"\n",
        "  Esta función multiplica dos números.\n",
        "\n",
        "  Args:\n",
        "      a: El primer número.\n",
        "      b: El segundo número.\n",
        "\n",
        "  Returns:\n",
        "      int: El producto de los dos números.\n",
        "  \"\"\"\n",
        "  return a * b\n",
        "\n",
        "def division(a, b):\n",
        "  \"\"\"\n",
        "  Esta función divide dos números.\n",
        "\n",
        "  Args:\n",
        "      a: El primer número.\n",
        "      b: El segundo número.\n",
        "\n",
        "  Returns:\n",
        "      float: El resultado de la división del primer número entre el segundo.\n",
        "  \"\"\"\n",
        "  if b == 0:\n",
        "    raise ValueError(\"No se puede dividir por cero.\")\n",
        "  return a / b\n",
        "\n",
        "# Solicitar los dos números al usuario\n",
        "numero1 = int(input(\"Introduce el primer número: \"))\n",
        "numero2 = int(input(\"Introduce el segundo número: \"))\n",
        "\n",
        "# Mostrar el menú de opciones\n",
        "print(\"\"\"\n",
        "Selecciona la operación a realizar:\n",
        "1. Suma\n",
        "2. Resta\n",
        "3. Multiplicación\n",
        "4. División\n",
        "\"\"\")\n",
        "\n",
        "# Leer la opción elegida por el usuario\n",
        "opcion = int(input(\"Elige una opción (1-4): \"))\n",
        "\n",
        "# Realizar la operación correspondiente\n",
        "if opcion == 1:\n",
        "  resultado = suma(numero1, numero2)\n",
        "elif opcion == 2:\n",
        "  resultado = resta(numero1, numero2)\n",
        "elif opcion == 3:\n",
        "  resultado = multiplicacion(numero1, numero2)\n",
        "elif opcion == 4:\n",
        "  resultado = division(numero1, numero2)\n",
        "else:\n",
        "  print(\"Opción no válida.\")\n",
        "\n",
        "# Mostrar el resultado\n",
        "if opcion in range(1, 5):\n",
        "  print(\"Resultado:\", resultado)\n"
      ],
      "metadata": {
        "colab": {
          "base_uri": "https://localhost:8080/"
        },
        "id": "F6E7pXR5kUyN",
        "outputId": "9b25aae6-1b19-4fbe-bd5e-7af6c6fdb411"
      },
      "execution_count": 6,
      "outputs": [
        {
          "output_type": "stream",
          "name": "stdout",
          "text": [
            "Introduce el primer número: 5\n",
            "Introduce el segundo número: 5\n",
            "\n",
            "Selecciona la operación a realizar:\n",
            "1. Suma\n",
            "2. Resta\n",
            "3. Multiplicación\n",
            "4. División\n",
            "\n",
            "Elige una opción (1-4): 1\n",
            "Resultado: 10\n"
          ]
        }
      ]
    }
  ]
}